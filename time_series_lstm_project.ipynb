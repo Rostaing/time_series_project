{
 "cells": [
  {
   "cell_type": "code",
   "execution_count": 38,
   "id": "4ca53d3e-4868-4506-a73a-0582facf2726",
   "metadata": {},
   "outputs": [],
   "source": [
    "import numpy as np\n",
    "import pandas as pd\n",
    "import matplotlib.pyplot as plt\n",
    "import seaborn as sns"
   ]
  },
  {
   "cell_type": "code",
   "execution_count": 39,
   "id": "bd10c0ad-7842-4935-bdb2-51ca5a1fb1f0",
   "metadata": {},
   "outputs": [],
   "source": [
    "df = pd.read_csv(\"BTC-EUR.csv\")"
   ]
  },
  {
   "cell_type": "code",
   "execution_count": 40,
   "id": "d07cf9b0-1f68-40a6-a012-21004dfbeab5",
   "metadata": {},
   "outputs": [
    {
     "data": {
      "text/html": [
       "<div>\n",
       "<style scoped>\n",
       "    .dataframe tbody tr th:only-of-type {\n",
       "        vertical-align: middle;\n",
       "    }\n",
       "\n",
       "    .dataframe tbody tr th {\n",
       "        vertical-align: top;\n",
       "    }\n",
       "\n",
       "    .dataframe thead th {\n",
       "        text-align: right;\n",
       "    }\n",
       "</style>\n",
       "<table border=\"1\" class=\"dataframe\">\n",
       "  <thead>\n",
       "    <tr style=\"text-align: right;\">\n",
       "      <th></th>\n",
       "      <th>Date</th>\n",
       "      <th>Open</th>\n",
       "      <th>High</th>\n",
       "      <th>Low</th>\n",
       "      <th>Close</th>\n",
       "      <th>Adj Close</th>\n",
       "      <th>Volume</th>\n",
       "    </tr>\n",
       "  </thead>\n",
       "  <tbody>\n",
       "    <tr>\n",
       "      <th>0</th>\n",
       "      <td>2014-09-17</td>\n",
       "      <td>359.546204</td>\n",
       "      <td>361.468506</td>\n",
       "      <td>351.586884</td>\n",
       "      <td>355.957367</td>\n",
       "      <td>355.957367</td>\n",
       "      <td>16389165</td>\n",
       "    </tr>\n",
       "    <tr>\n",
       "      <th>1</th>\n",
       "      <td>2014-09-18</td>\n",
       "      <td>355.588409</td>\n",
       "      <td>355.505402</td>\n",
       "      <td>319.789459</td>\n",
       "      <td>328.539368</td>\n",
       "      <td>328.539368</td>\n",
       "      <td>26691849</td>\n",
       "    </tr>\n",
       "    <tr>\n",
       "      <th>2</th>\n",
       "      <td>2014-09-19</td>\n",
       "      <td>328.278503</td>\n",
       "      <td>330.936707</td>\n",
       "      <td>298.921021</td>\n",
       "      <td>307.761139</td>\n",
       "      <td>307.761139</td>\n",
       "      <td>29560102</td>\n",
       "    </tr>\n",
       "    <tr>\n",
       "      <th>3</th>\n",
       "      <td>2014-09-20</td>\n",
       "      <td>307.665253</td>\n",
       "      <td>329.978180</td>\n",
       "      <td>303.931244</td>\n",
       "      <td>318.758972</td>\n",
       "      <td>318.758972</td>\n",
       "      <td>28736825</td>\n",
       "    </tr>\n",
       "    <tr>\n",
       "      <th>4</th>\n",
       "      <td>2014-09-21</td>\n",
       "      <td>318.120514</td>\n",
       "      <td>321.504517</td>\n",
       "      <td>306.502197</td>\n",
       "      <td>310.632446</td>\n",
       "      <td>310.632446</td>\n",
       "      <td>20702624</td>\n",
       "    </tr>\n",
       "  </tbody>\n",
       "</table>\n",
       "</div>"
      ],
      "text/plain": [
       "         Date        Open        High         Low       Close   Adj Close   \n",
       "0  2014-09-17  359.546204  361.468506  351.586884  355.957367  355.957367  \\\n",
       "1  2014-09-18  355.588409  355.505402  319.789459  328.539368  328.539368   \n",
       "2  2014-09-19  328.278503  330.936707  298.921021  307.761139  307.761139   \n",
       "3  2014-09-20  307.665253  329.978180  303.931244  318.758972  318.758972   \n",
       "4  2014-09-21  318.120514  321.504517  306.502197  310.632446  310.632446   \n",
       "\n",
       "     Volume  \n",
       "0  16389165  \n",
       "1  26691849  \n",
       "2  29560102  \n",
       "3  28736825  \n",
       "4  20702624  "
      ]
     },
     "execution_count": 40,
     "metadata": {},
     "output_type": "execute_result"
    }
   ],
   "source": [
    "df.head()"
   ]
  },
  {
   "cell_type": "code",
   "execution_count": 41,
   "id": "9e9f940e-bcbc-4b25-9785-97838befb208",
   "metadata": {},
   "outputs": [
    {
     "name": "stdout",
     "output_type": "stream",
     "text": [
      "<class 'pandas.core.frame.DataFrame'>\n",
      "RangeIndex: 2280 entries, 0 to 2279\n",
      "Data columns (total 7 columns):\n",
      " #   Column     Non-Null Count  Dtype  \n",
      "---  ------     --------------  -----  \n",
      " 0   Date       2280 non-null   object \n",
      " 1   Open       2280 non-null   float64\n",
      " 2   High       2280 non-null   float64\n",
      " 3   Low        2280 non-null   float64\n",
      " 4   Close      2280 non-null   float64\n",
      " 5   Adj Close  2280 non-null   float64\n",
      " 6   Volume     2280 non-null   int64  \n",
      "dtypes: float64(5), int64(1), object(1)\n",
      "memory usage: 124.8+ KB\n"
     ]
    }
   ],
   "source": [
    "df.info()"
   ]
  },
  {
   "cell_type": "code",
   "execution_count": 42,
   "id": "0e6932ca-f6a6-44c6-9569-25192eb45f5f",
   "metadata": {},
   "outputs": [],
   "source": [
    "dates = pd.to_datetime(df[\"Date\"])"
   ]
  },
  {
   "cell_type": "code",
   "execution_count": 43,
   "id": "efb09fa5-da3a-491e-aee8-7b826f3bfac2",
   "metadata": {},
   "outputs": [
    {
     "data": {
      "text/html": [
       "<div>\n",
       "<style scoped>\n",
       "    .dataframe tbody tr th:only-of-type {\n",
       "        vertical-align: middle;\n",
       "    }\n",
       "\n",
       "    .dataframe tbody tr th {\n",
       "        vertical-align: top;\n",
       "    }\n",
       "\n",
       "    .dataframe thead th {\n",
       "        text-align: right;\n",
       "    }\n",
       "</style>\n",
       "<table border=\"1\" class=\"dataframe\">\n",
       "  <thead>\n",
       "    <tr style=\"text-align: right;\">\n",
       "      <th></th>\n",
       "      <th>Open</th>\n",
       "      <th>High</th>\n",
       "      <th>Low</th>\n",
       "      <th>Close</th>\n",
       "      <th>Adj Close</th>\n",
       "      <th>Volume</th>\n",
       "    </tr>\n",
       "  </thead>\n",
       "  <tbody>\n",
       "    <tr>\n",
       "      <th>0</th>\n",
       "      <td>359.546204</td>\n",
       "      <td>361.468506</td>\n",
       "      <td>351.586884</td>\n",
       "      <td>355.957367</td>\n",
       "      <td>355.957367</td>\n",
       "      <td>16389165</td>\n",
       "    </tr>\n",
       "    <tr>\n",
       "      <th>1</th>\n",
       "      <td>355.588409</td>\n",
       "      <td>355.505402</td>\n",
       "      <td>319.789459</td>\n",
       "      <td>328.539368</td>\n",
       "      <td>328.539368</td>\n",
       "      <td>26691849</td>\n",
       "    </tr>\n",
       "    <tr>\n",
       "      <th>2</th>\n",
       "      <td>328.278503</td>\n",
       "      <td>330.936707</td>\n",
       "      <td>298.921021</td>\n",
       "      <td>307.761139</td>\n",
       "      <td>307.761139</td>\n",
       "      <td>29560102</td>\n",
       "    </tr>\n",
       "    <tr>\n",
       "      <th>3</th>\n",
       "      <td>307.665253</td>\n",
       "      <td>329.978180</td>\n",
       "      <td>303.931244</td>\n",
       "      <td>318.758972</td>\n",
       "      <td>318.758972</td>\n",
       "      <td>28736825</td>\n",
       "    </tr>\n",
       "    <tr>\n",
       "      <th>4</th>\n",
       "      <td>318.120514</td>\n",
       "      <td>321.504517</td>\n",
       "      <td>306.502197</td>\n",
       "      <td>310.632446</td>\n",
       "      <td>310.632446</td>\n",
       "      <td>20702624</td>\n",
       "    </tr>\n",
       "  </tbody>\n",
       "</table>\n",
       "</div>"
      ],
      "text/plain": [
       "         Open        High         Low       Close   Adj Close    Volume\n",
       "0  359.546204  361.468506  351.586884  355.957367  355.957367  16389165\n",
       "1  355.588409  355.505402  319.789459  328.539368  328.539368  26691849\n",
       "2  328.278503  330.936707  298.921021  307.761139  307.761139  29560102\n",
       "3  307.665253  329.978180  303.931244  318.758972  318.758972  28736825\n",
       "4  318.120514  321.504517  306.502197  310.632446  310.632446  20702624"
      ]
     },
     "execution_count": 43,
     "metadata": {},
     "output_type": "execute_result"
    }
   ],
   "source": [
    "df.drop(\"Date\", axis=1, inplace=True)\n",
    "df.head()"
   ]
  },
  {
   "cell_type": "code",
   "execution_count": 44,
   "id": "b27bdeb7-6e33-440a-acc6-c574286e3304",
   "metadata": {},
   "outputs": [],
   "source": [
    "data = pd.concat([df, dates], axis=1)"
   ]
  },
  {
   "cell_type": "code",
   "execution_count": 45,
   "id": "159389f6-3fa3-498e-b29c-f5351740e224",
   "metadata": {},
   "outputs": [
    {
     "data": {
      "text/html": [
       "<div>\n",
       "<style scoped>\n",
       "    .dataframe tbody tr th:only-of-type {\n",
       "        vertical-align: middle;\n",
       "    }\n",
       "\n",
       "    .dataframe tbody tr th {\n",
       "        vertical-align: top;\n",
       "    }\n",
       "\n",
       "    .dataframe thead th {\n",
       "        text-align: right;\n",
       "    }\n",
       "</style>\n",
       "<table border=\"1\" class=\"dataframe\">\n",
       "  <thead>\n",
       "    <tr style=\"text-align: right;\">\n",
       "      <th></th>\n",
       "      <th>Open</th>\n",
       "      <th>High</th>\n",
       "      <th>Low</th>\n",
       "      <th>Close</th>\n",
       "      <th>Adj Close</th>\n",
       "      <th>Volume</th>\n",
       "      <th>Date</th>\n",
       "    </tr>\n",
       "  </thead>\n",
       "  <tbody>\n",
       "    <tr>\n",
       "      <th>0</th>\n",
       "      <td>359.546204</td>\n",
       "      <td>361.468506</td>\n",
       "      <td>351.586884</td>\n",
       "      <td>355.957367</td>\n",
       "      <td>355.957367</td>\n",
       "      <td>16389165</td>\n",
       "      <td>2014-09-17</td>\n",
       "    </tr>\n",
       "    <tr>\n",
       "      <th>1</th>\n",
       "      <td>355.588409</td>\n",
       "      <td>355.505402</td>\n",
       "      <td>319.789459</td>\n",
       "      <td>328.539368</td>\n",
       "      <td>328.539368</td>\n",
       "      <td>26691849</td>\n",
       "      <td>2014-09-18</td>\n",
       "    </tr>\n",
       "    <tr>\n",
       "      <th>2</th>\n",
       "      <td>328.278503</td>\n",
       "      <td>330.936707</td>\n",
       "      <td>298.921021</td>\n",
       "      <td>307.761139</td>\n",
       "      <td>307.761139</td>\n",
       "      <td>29560102</td>\n",
       "      <td>2014-09-19</td>\n",
       "    </tr>\n",
       "    <tr>\n",
       "      <th>3</th>\n",
       "      <td>307.665253</td>\n",
       "      <td>329.978180</td>\n",
       "      <td>303.931244</td>\n",
       "      <td>318.758972</td>\n",
       "      <td>318.758972</td>\n",
       "      <td>28736825</td>\n",
       "      <td>2014-09-20</td>\n",
       "    </tr>\n",
       "    <tr>\n",
       "      <th>4</th>\n",
       "      <td>318.120514</td>\n",
       "      <td>321.504517</td>\n",
       "      <td>306.502197</td>\n",
       "      <td>310.632446</td>\n",
       "      <td>310.632446</td>\n",
       "      <td>20702624</td>\n",
       "      <td>2014-09-21</td>\n",
       "    </tr>\n",
       "  </tbody>\n",
       "</table>\n",
       "</div>"
      ],
      "text/plain": [
       "         Open        High         Low       Close   Adj Close    Volume   \n",
       "0  359.546204  361.468506  351.586884  355.957367  355.957367  16389165  \\\n",
       "1  355.588409  355.505402  319.789459  328.539368  328.539368  26691849   \n",
       "2  328.278503  330.936707  298.921021  307.761139  307.761139  29560102   \n",
       "3  307.665253  329.978180  303.931244  318.758972  318.758972  28736825   \n",
       "4  318.120514  321.504517  306.502197  310.632446  310.632446  20702624   \n",
       "\n",
       "        Date  \n",
       "0 2014-09-17  \n",
       "1 2014-09-18  \n",
       "2 2014-09-19  \n",
       "3 2014-09-20  \n",
       "4 2014-09-21  "
      ]
     },
     "execution_count": 45,
     "metadata": {},
     "output_type": "execute_result"
    }
   ],
   "source": [
    "data.head()"
   ]
  },
  {
   "cell_type": "code",
   "execution_count": 46,
   "id": "1ab713d9-8e07-4247-b51f-65d8e3a99d9e",
   "metadata": {},
   "outputs": [
    {
     "name": "stdout",
     "output_type": "stream",
     "text": [
      "<class 'pandas.core.frame.DataFrame'>\n",
      "RangeIndex: 2280 entries, 0 to 2279\n",
      "Data columns (total 7 columns):\n",
      " #   Column     Non-Null Count  Dtype         \n",
      "---  ------     --------------  -----         \n",
      " 0   Open       2280 non-null   float64       \n",
      " 1   High       2280 non-null   float64       \n",
      " 2   Low        2280 non-null   float64       \n",
      " 3   Close      2280 non-null   float64       \n",
      " 4   Adj Close  2280 non-null   float64       \n",
      " 5   Volume     2280 non-null   int64         \n",
      " 6   Date       2280 non-null   datetime64[ns]\n",
      "dtypes: datetime64[ns](1), float64(5), int64(1)\n",
      "memory usage: 124.8 KB\n"
     ]
    }
   ],
   "source": [
    "data.info()"
   ]
  },
  {
   "cell_type": "code",
   "execution_count": 47,
   "id": "aab58b5f-5d93-4b19-aefa-072e12ab7255",
   "metadata": {},
   "outputs": [],
   "source": [
    "data.rename(columns={\"Adj Close\":\"AdjClose\"}, inplace=True)"
   ]
  },
  {
   "cell_type": "code",
   "execution_count": 48,
   "id": "a0c739ea-344c-4278-ae17-def44c61ff81",
   "metadata": {},
   "outputs": [
    {
     "data": {
      "text/html": [
       "<div>\n",
       "<style scoped>\n",
       "    .dataframe tbody tr th:only-of-type {\n",
       "        vertical-align: middle;\n",
       "    }\n",
       "\n",
       "    .dataframe tbody tr th {\n",
       "        vertical-align: top;\n",
       "    }\n",
       "\n",
       "    .dataframe thead th {\n",
       "        text-align: right;\n",
       "    }\n",
       "</style>\n",
       "<table border=\"1\" class=\"dataframe\">\n",
       "  <thead>\n",
       "    <tr style=\"text-align: right;\">\n",
       "      <th></th>\n",
       "      <th>Open</th>\n",
       "      <th>High</th>\n",
       "      <th>Low</th>\n",
       "      <th>Close</th>\n",
       "      <th>AdjClose</th>\n",
       "      <th>Volume</th>\n",
       "      <th>Date</th>\n",
       "    </tr>\n",
       "  </thead>\n",
       "  <tbody>\n",
       "    <tr>\n",
       "      <th>0</th>\n",
       "      <td>359.546204</td>\n",
       "      <td>361.468506</td>\n",
       "      <td>351.586884</td>\n",
       "      <td>355.957367</td>\n",
       "      <td>355.957367</td>\n",
       "      <td>16389165</td>\n",
       "      <td>2014-09-17</td>\n",
       "    </tr>\n",
       "    <tr>\n",
       "      <th>1</th>\n",
       "      <td>355.588409</td>\n",
       "      <td>355.505402</td>\n",
       "      <td>319.789459</td>\n",
       "      <td>328.539368</td>\n",
       "      <td>328.539368</td>\n",
       "      <td>26691849</td>\n",
       "      <td>2014-09-18</td>\n",
       "    </tr>\n",
       "    <tr>\n",
       "      <th>2</th>\n",
       "      <td>328.278503</td>\n",
       "      <td>330.936707</td>\n",
       "      <td>298.921021</td>\n",
       "      <td>307.761139</td>\n",
       "      <td>307.761139</td>\n",
       "      <td>29560102</td>\n",
       "      <td>2014-09-19</td>\n",
       "    </tr>\n",
       "    <tr>\n",
       "      <th>3</th>\n",
       "      <td>307.665253</td>\n",
       "      <td>329.978180</td>\n",
       "      <td>303.931244</td>\n",
       "      <td>318.758972</td>\n",
       "      <td>318.758972</td>\n",
       "      <td>28736825</td>\n",
       "      <td>2014-09-20</td>\n",
       "    </tr>\n",
       "    <tr>\n",
       "      <th>4</th>\n",
       "      <td>318.120514</td>\n",
       "      <td>321.504517</td>\n",
       "      <td>306.502197</td>\n",
       "      <td>310.632446</td>\n",
       "      <td>310.632446</td>\n",
       "      <td>20702624</td>\n",
       "      <td>2014-09-21</td>\n",
       "    </tr>\n",
       "  </tbody>\n",
       "</table>\n",
       "</div>"
      ],
      "text/plain": [
       "         Open        High         Low       Close    AdjClose    Volume   \n",
       "0  359.546204  361.468506  351.586884  355.957367  355.957367  16389165  \\\n",
       "1  355.588409  355.505402  319.789459  328.539368  328.539368  26691849   \n",
       "2  328.278503  330.936707  298.921021  307.761139  307.761139  29560102   \n",
       "3  307.665253  329.978180  303.931244  318.758972  318.758972  28736825   \n",
       "4  318.120514  321.504517  306.502197  310.632446  310.632446  20702624   \n",
       "\n",
       "        Date  \n",
       "0 2014-09-17  \n",
       "1 2014-09-18  \n",
       "2 2014-09-19  \n",
       "3 2014-09-20  \n",
       "4 2014-09-21  "
      ]
     },
     "execution_count": 48,
     "metadata": {},
     "output_type": "execute_result"
    }
   ],
   "source": [
    "data.head()"
   ]
  },
  {
   "cell_type": "code",
   "execution_count": 50,
   "id": "9f0ebfd7-0329-4176-b04f-3abb224a0af7",
   "metadata": {},
   "outputs": [],
   "source": [
    "data.set_index(data[\"Date\"], inplace=True)"
   ]
  },
  {
   "cell_type": "code",
   "execution_count": 52,
   "id": "0598fa9c-877e-48a7-945d-46a319948173",
   "metadata": {},
   "outputs": [
    {
     "data": {
      "text/html": [
       "<div>\n",
       "<style scoped>\n",
       "    .dataframe tbody tr th:only-of-type {\n",
       "        vertical-align: middle;\n",
       "    }\n",
       "\n",
       "    .dataframe tbody tr th {\n",
       "        vertical-align: top;\n",
       "    }\n",
       "\n",
       "    .dataframe thead th {\n",
       "        text-align: right;\n",
       "    }\n",
       "</style>\n",
       "<table border=\"1\" class=\"dataframe\">\n",
       "  <thead>\n",
       "    <tr style=\"text-align: right;\">\n",
       "      <th></th>\n",
       "      <th>Open</th>\n",
       "      <th>High</th>\n",
       "      <th>Low</th>\n",
       "      <th>Close</th>\n",
       "      <th>AdjClose</th>\n",
       "      <th>Volume</th>\n",
       "      <th>Date</th>\n",
       "    </tr>\n",
       "    <tr>\n",
       "      <th>Date</th>\n",
       "      <th></th>\n",
       "      <th></th>\n",
       "      <th></th>\n",
       "      <th></th>\n",
       "      <th></th>\n",
       "      <th></th>\n",
       "      <th></th>\n",
       "    </tr>\n",
       "  </thead>\n",
       "  <tbody>\n",
       "    <tr>\n",
       "      <th>2014-09-17</th>\n",
       "      <td>359.546204</td>\n",
       "      <td>361.468506</td>\n",
       "      <td>351.586884</td>\n",
       "      <td>355.957367</td>\n",
       "      <td>355.957367</td>\n",
       "      <td>16389165</td>\n",
       "      <td>2014-09-17</td>\n",
       "    </tr>\n",
       "    <tr>\n",
       "      <th>2014-09-18</th>\n",
       "      <td>355.588409</td>\n",
       "      <td>355.505402</td>\n",
       "      <td>319.789459</td>\n",
       "      <td>328.539368</td>\n",
       "      <td>328.539368</td>\n",
       "      <td>26691849</td>\n",
       "      <td>2014-09-18</td>\n",
       "    </tr>\n",
       "    <tr>\n",
       "      <th>2014-09-19</th>\n",
       "      <td>328.278503</td>\n",
       "      <td>330.936707</td>\n",
       "      <td>298.921021</td>\n",
       "      <td>307.761139</td>\n",
       "      <td>307.761139</td>\n",
       "      <td>29560102</td>\n",
       "      <td>2014-09-19</td>\n",
       "    </tr>\n",
       "    <tr>\n",
       "      <th>2014-09-20</th>\n",
       "      <td>307.665253</td>\n",
       "      <td>329.978180</td>\n",
       "      <td>303.931244</td>\n",
       "      <td>318.758972</td>\n",
       "      <td>318.758972</td>\n",
       "      <td>28736825</td>\n",
       "      <td>2014-09-20</td>\n",
       "    </tr>\n",
       "    <tr>\n",
       "      <th>2014-09-21</th>\n",
       "      <td>318.120514</td>\n",
       "      <td>321.504517</td>\n",
       "      <td>306.502197</td>\n",
       "      <td>310.632446</td>\n",
       "      <td>310.632446</td>\n",
       "      <td>20702624</td>\n",
       "      <td>2014-09-21</td>\n",
       "    </tr>\n",
       "  </tbody>\n",
       "</table>\n",
       "</div>"
      ],
      "text/plain": [
       "                  Open        High         Low       Close    AdjClose   \n",
       "Date                                                                     \n",
       "2014-09-17  359.546204  361.468506  351.586884  355.957367  355.957367  \\\n",
       "2014-09-18  355.588409  355.505402  319.789459  328.539368  328.539368   \n",
       "2014-09-19  328.278503  330.936707  298.921021  307.761139  307.761139   \n",
       "2014-09-20  307.665253  329.978180  303.931244  318.758972  318.758972   \n",
       "2014-09-21  318.120514  321.504517  306.502197  310.632446  310.632446   \n",
       "\n",
       "              Volume       Date  \n",
       "Date                             \n",
       "2014-09-17  16389165 2014-09-17  \n",
       "2014-09-18  26691849 2014-09-18  \n",
       "2014-09-19  29560102 2014-09-19  \n",
       "2014-09-20  28736825 2014-09-20  \n",
       "2014-09-21  20702624 2014-09-21  "
      ]
     },
     "execution_count": 52,
     "metadata": {},
     "output_type": "execute_result"
    }
   ],
   "source": [
    "data.head()"
   ]
  },
  {
   "cell_type": "code",
   "execution_count": 56,
   "id": "f8339b95-0631-4027-8e07-677ee4702ae9",
   "metadata": {},
   "outputs": [],
   "source": [
    "data.rename(columns={\"Date\":\"Drop\"}, inplace=True)"
   ]
  },
  {
   "cell_type": "code",
   "execution_count": 57,
   "id": "852d6ec0-9c52-4991-931a-451ce83d045d",
   "metadata": {},
   "outputs": [
    {
     "data": {
      "text/html": [
       "<div>\n",
       "<style scoped>\n",
       "    .dataframe tbody tr th:only-of-type {\n",
       "        vertical-align: middle;\n",
       "    }\n",
       "\n",
       "    .dataframe tbody tr th {\n",
       "        vertical-align: top;\n",
       "    }\n",
       "\n",
       "    .dataframe thead th {\n",
       "        text-align: right;\n",
       "    }\n",
       "</style>\n",
       "<table border=\"1\" class=\"dataframe\">\n",
       "  <thead>\n",
       "    <tr style=\"text-align: right;\">\n",
       "      <th></th>\n",
       "      <th>Open</th>\n",
       "      <th>High</th>\n",
       "      <th>Low</th>\n",
       "      <th>Close</th>\n",
       "      <th>AdjClose</th>\n",
       "      <th>Volume</th>\n",
       "    </tr>\n",
       "    <tr>\n",
       "      <th>Date</th>\n",
       "      <th></th>\n",
       "      <th></th>\n",
       "      <th></th>\n",
       "      <th></th>\n",
       "      <th></th>\n",
       "      <th></th>\n",
       "    </tr>\n",
       "  </thead>\n",
       "  <tbody>\n",
       "    <tr>\n",
       "      <th>2014-09-17</th>\n",
       "      <td>359.546204</td>\n",
       "      <td>361.468506</td>\n",
       "      <td>351.586884</td>\n",
       "      <td>355.957367</td>\n",
       "      <td>355.957367</td>\n",
       "      <td>16389165</td>\n",
       "    </tr>\n",
       "    <tr>\n",
       "      <th>2014-09-18</th>\n",
       "      <td>355.588409</td>\n",
       "      <td>355.505402</td>\n",
       "      <td>319.789459</td>\n",
       "      <td>328.539368</td>\n",
       "      <td>328.539368</td>\n",
       "      <td>26691849</td>\n",
       "    </tr>\n",
       "    <tr>\n",
       "      <th>2014-09-19</th>\n",
       "      <td>328.278503</td>\n",
       "      <td>330.936707</td>\n",
       "      <td>298.921021</td>\n",
       "      <td>307.761139</td>\n",
       "      <td>307.761139</td>\n",
       "      <td>29560102</td>\n",
       "    </tr>\n",
       "    <tr>\n",
       "      <th>2014-09-20</th>\n",
       "      <td>307.665253</td>\n",
       "      <td>329.978180</td>\n",
       "      <td>303.931244</td>\n",
       "      <td>318.758972</td>\n",
       "      <td>318.758972</td>\n",
       "      <td>28736825</td>\n",
       "    </tr>\n",
       "    <tr>\n",
       "      <th>2014-09-21</th>\n",
       "      <td>318.120514</td>\n",
       "      <td>321.504517</td>\n",
       "      <td>306.502197</td>\n",
       "      <td>310.632446</td>\n",
       "      <td>310.632446</td>\n",
       "      <td>20702624</td>\n",
       "    </tr>\n",
       "  </tbody>\n",
       "</table>\n",
       "</div>"
      ],
      "text/plain": [
       "                  Open        High         Low       Close    AdjClose   \n",
       "Date                                                                     \n",
       "2014-09-17  359.546204  361.468506  351.586884  355.957367  355.957367  \\\n",
       "2014-09-18  355.588409  355.505402  319.789459  328.539368  328.539368   \n",
       "2014-09-19  328.278503  330.936707  298.921021  307.761139  307.761139   \n",
       "2014-09-20  307.665253  329.978180  303.931244  318.758972  318.758972   \n",
       "2014-09-21  318.120514  321.504517  306.502197  310.632446  310.632446   \n",
       "\n",
       "              Volume  \n",
       "Date                  \n",
       "2014-09-17  16389165  \n",
       "2014-09-18  26691849  \n",
       "2014-09-19  29560102  \n",
       "2014-09-20  28736825  \n",
       "2014-09-21  20702624  "
      ]
     },
     "execution_count": 57,
     "metadata": {},
     "output_type": "execute_result"
    }
   ],
   "source": [
    "data.head()"
   ]
  },
  {
   "cell_type": "code",
   "execution_count": 61,
   "id": "ddc15633-1759-4b6a-bdee-bf1ea2a103ab",
   "metadata": {},
   "outputs": [
    {
     "data": {
      "image/png": "[encoded data removed]",
      "text/plain": [
       "<Figure size 640x480 with 1 Axes>"
      ]
     },
     "metadata": {},
     "output_type": "display_data"
    }
   ],
   "source": [
    "data.plot();"
   ]
  },
  {
   "cell_type": "code",
   "execution_count": 65,
   "id": "710ee1c9-de4d-4f81-8a1d-b804a98650e0",
   "metadata": {},
   "outputs": [
    {
     "data": {
      "image/png": "[encoded data removed]",
      "text/plain": [
       "<Figure size 640x480 with 1 Axes>"
      ]
     },
     "metadata": {},
     "output_type": "display_data"
    }
   ],
   "source": [
    "data[\"Volume\"].resample('2W').agg(\"mean\").plot();"
   ]
  },
  {
   "cell_type": "code",
   "execution_count": 72,
   "id": "5c91ad34-8a12-44d7-85a6-830be5165e23",
   "metadata": {},
   "outputs": [],
   "source": [
    "from tensorflow.keras.models import Sequential\n",
    "from tensorflow.keras.layers import *\n",
    "from tensorflow.keras.losses import MeanSquaredError\n",
    "from tensorflow.keras.metrics import RootMeanSquaredError\n",
    "from tensorflow.keras.optimizers import Adam\n",
    "from tensorflow.keras.callbacks import ModelCheckpoint\n",
    "\n",
    "from sklearn.model_selection import train_test_split"
   ]
  },
  {
   "cell_type": "code",
   "execution_count": 75,
   "id": "8a004dac-b861-444b-a2e9-d912e96af140",
   "metadata": {},
   "outputs": [],
   "source": [
    "def df_to_X_y(data, window_size=5):\n",
    "    df_as_np = data.to_numpy()\n",
    "    X = []\n",
    "    y = []\n",
    "    for i in range(len(df_as_np) - window_size):\n",
    "        row = [[a] for a in df_as_np[i:i+5]]\n",
    "        X.append(row)\n",
    "        label =  df_as_np[i+5]\n",
    "        y.append(label)\n",
    "    return np.array(X), np.array(y)"
   ]
  },
  {
   "cell_type": "code",
   "execution_count": 76,
   "id": "8fee9f48-6237-4769-8f0d-60aaafeb56a7",
   "metadata": {},
   "outputs": [],
   "source": [
    "WINDOW_SIZE = 5\n",
    "temp = data[\"Volume\"]\n",
    "X, y = df_to_X_y(temp, WINDOW_SIZE)"
   ]
  },
  {
   "cell_type": "code",
   "execution_count": 78,
   "id": "a76b8b62-8891-41f8-8153-ea2b0f38a1c3",
   "metadata": {},
   "outputs": [
    {
     "data": {
      "text/plain": [
       "((2275, 5, 1), (2275,))"
      ]
     },
     "execution_count": 78,
     "metadata": {},
     "output_type": "execute_result"
    }
   ],
   "source": [
    "X.shape, y.shape"
   ]
  },
  {
   "cell_type": "code",
   "execution_count": 100,
   "id": "4243c3b3-54c0-45b6-9a13-70bb1dcc5094",
   "metadata": {},
   "outputs": [
    {
     "data": {
      "text/plain": [
       "3"
      ]
     },
     "execution_count": 100,
     "metadata": {},
     "output_type": "execute_result"
    }
   ],
   "source": [
    "X.ndim"
   ]
  },
  {
   "cell_type": "code",
   "execution_count": 79,
   "id": "56aee1c0-0d57-46a7-b8aa-326b333b1aec",
   "metadata": {},
   "outputs": [],
   "source": [
    "# X = data.drop(\"Volume\", axis=1)\n",
    "# y = data[\"Volume\"]\n",
    "# X.shape, y.shape"
   ]
  },
  {
   "cell_type": "code",
   "execution_count": 101,
   "id": "6588c6d7-dd35-4a87-83ca-f08696ec860b",
   "metadata": {},
   "outputs": [],
   "source": [
    "X_train, X_test, y_train, y_test = train_test_split(X, y, test_size=0.2, random_state=1234)"
   ]
  },
  {
   "cell_type": "code",
   "execution_count": 102,
   "id": "62986dde-e8c9-447a-bacb-cfe0dfef2687",
   "metadata": {},
   "outputs": [
    {
     "data": {
      "text/plain": [
       "((1820, 5, 1), (455, 5, 1), (1820,), (455,))"
      ]
     },
     "execution_count": 102,
     "metadata": {},
     "output_type": "execute_result"
    }
   ],
   "source": [
    "X_train.shape, X_test.shape, y_train.shape, y_test.shape"
   ]
  },
  {
   "cell_type": "code",
   "execution_count": 114,
   "id": "e992de87-863f-41b2-b90d-5153a1c98afa",
   "metadata": {},
   "outputs": [],
   "source": [
    "x_train_, x_val, y_train_, y_val = train_test_split(X_train, y_train, test_size=0.2, random_state=1234)"
   ]
  },
  {
   "cell_type": "code",
   "execution_count": 115,
   "id": "56c9e143-6c2f-40ee-bd95-ce151bf4f1df",
   "metadata": {},
   "outputs": [
    {
     "data": {
      "text/plain": [
       "((1456, 5, 1), (364, 5, 1), (1456,), (364,))"
      ]
     },
     "execution_count": 115,
     "metadata": {},
     "output_type": "execute_result"
    }
   ],
   "source": [
    "x_train_.shape, x_val.shape, y_train_.shape, y_val.shape"
   ]
  },
  {
   "cell_type": "code",
   "execution_count": 121,
   "id": "087d7c76-9ce5-482e-9e2a-80c7904b46a5",
   "metadata": {},
   "outputs": [
    {
     "name": "stdout",
     "output_type": "stream",
     "text": [
      "Model: \"sequential_8\"\n",
      "_________________________________________________________________\n",
      " Layer (type)                Output Shape              Param #   \n",
      "=================================================================\n",
      " lstm_8 (LSTM)               (None, 64)                16896     \n",
      "                                                                 \n",
      " dense_16 (Dense)            (None, 32)                2080      \n",
      "                                                                 \n",
      " dense_17 (Dense)            (None, 8)                 264       \n",
      "                                                                 \n",
      " dense_18 (Dense)            (None, 1)                 9         \n",
      "                                                                 \n",
      "=================================================================\n",
      "Total params: 19,249\n",
      "Trainable params: 19,249\n",
      "Non-trainable params: 0\n",
      "_________________________________________________________________\n"
     ]
    }
   ],
   "source": [
    "model = Sequential()\n",
    "model.add(InputLayer((5, 1)))\n",
    "model.add(LSTM(64))\n",
    "model.add(Dense(32, activation='relu'))\n",
    "model.add(Dense(8, activation='relu'))\n",
    "model.add(Dense(1, activation='softmax'))\n",
    "\n",
    "model.summary()"
   ]
  },
  {
   "cell_type": "code",
   "execution_count": 122,
   "id": "e3a77475-172e-420f-b88e-c8c8aa03dde9",
   "metadata": {},
   "outputs": [],
   "source": [
    "cp = ModelCheckpoint('model/', save_best_only=True)"
   ]
  },
  {
   "cell_type": "code",
   "execution_count": 123,
   "id": "550f3be6-487c-49b0-a0fd-3fdf61bd7bb0",
   "metadata": {},
   "outputs": [],
   "source": [
    "model.compile(optimizer=Adam(learning_rate=0.001), loss=MeanSquaredError(), metrics=[RootMeanSquaredError()])"
   ]
  },
  {
   "cell_type": "code",
   "execution_count": 124,
   "id": "dd9b410b-8bc3-4d5b-96f4-b11cee52c336",
   "metadata": {},
   "outputs": [
    {
     "name": "stdout",
     "output_type": "stream",
     "text": [
      "Epoch 1/10\n",
      "38/46 [=======================>......] - ETA: 0s - loss: 193784403203706585088.0000 - root_mean_squared_error: 13920646144.0000"
     ]
    },
    {
     "name": "stderr",
     "output_type": "stream",
     "text": [
      "WARNING:absl:Found untraced functions such as _update_step_xla, lstm_cell_8_layer_call_fn, lstm_cell_8_layer_call_and_return_conditional_losses while saving (showing 3 of 3). These functions will not be directly callable after loading.\n"
     ]
    },
    {
     "name": "stdout",
     "output_type": "stream",
     "text": [
      "INFO:tensorflow:Assets written to: model\\assets\n"
     ]
    },
    {
     "name": "stderr",
     "output_type": "stream",
     "text": [
      "INFO:tensorflow:Assets written to: model\\assets\n"
     ]
    },
    {
     "name": "stdout",
     "output_type": "stream",
     "text": [
      "46/46 [==============================] - 10s 167ms/step - loss: 191993589033129213952.0000 - root_mean_squared_error: 13856175104.0000 - val_loss: 167171683027527925760.0000 - val_root_mean_squared_error: 12929488896.0000\n",
      "Epoch 2/10\n",
      "46/46 [==============================] - 0s 7ms/step - loss: 191993606625315258368.0000 - root_mean_squared_error: 13856176128.0000 - val_loss: 167171683027527925760.0000 - val_root_mean_squared_error: 12929488896.0000\n",
      "Epoch 3/10\n",
      "46/46 [==============================] - 0s 8ms/step - loss: 191993641809687347200.0000 - root_mean_squared_error: 13856177152.0000 - val_loss: 167171683027527925760.0000 - val_root_mean_squared_error: 12929488896.0000\n",
      "Epoch 4/10\n",
      "46/46 [==============================] - 0s 7ms/step - loss: 191993606625315258368.0000 - root_mean_squared_error: 13856176128.0000 - val_loss: 167171683027527925760.0000 - val_root_mean_squared_error: 12929488896.0000\n",
      "Epoch 5/10\n",
      "46/46 [==============================] - 0s 6ms/step - loss: 191993606625315258368.0000 - root_mean_squared_error: 13856176128.0000 - val_loss: 167171683027527925760.0000 - val_root_mean_squared_error: 12929488896.0000\n",
      "Epoch 6/10\n",
      "46/46 [==============================] - 0s 6ms/step - loss: 191993571440943169536.0000 - root_mean_squared_error: 13856174080.0000 - val_loss: 167171683027527925760.0000 - val_root_mean_squared_error: 12929488896.0000\n",
      "Epoch 7/10\n",
      "46/46 [==============================] - 0s 6ms/step - loss: 191993606625315258368.0000 - root_mean_squared_error: 13856176128.0000 - val_loss: 167171683027527925760.0000 - val_root_mean_squared_error: 12929488896.0000\n",
      "Epoch 8/10\n",
      "46/46 [==============================] - 0s 6ms/step - loss: 191993641809687347200.0000 - root_mean_squared_error: 13856177152.0000 - val_loss: 167171683027527925760.0000 - val_root_mean_squared_error: 12929488896.0000\n",
      "Epoch 9/10\n",
      "46/46 [==============================] - 0s 6ms/step - loss: 191993606625315258368.0000 - root_mean_squared_error: 13856176128.0000 - val_loss: 167171683027527925760.0000 - val_root_mean_squared_error: 12929488896.0000\n",
      "Epoch 10/10\n",
      "46/46 [==============================] - 0s 6ms/step - loss: 191993606625315258368.0000 - root_mean_squared_error: 13856176128.0000 - val_loss: 167171683027527925760.0000 - val_root_mean_squared_error: 12929488896.0000\n"
     ]
    }
   ],
   "source": [
    "history = model.fit(x_train_, y_train_, validation_data=(x_val, y_val), epochs=10, callbacks=[cp])"
   ]
  },
  {
   "cell_type": "code",
   "execution_count": null,
   "id": "c46d57b9-ae23-47a0-a9cf-191f6d9913cb",
   "metadata": {},
   "outputs": [],
   "source": []
  }
 ],
 "metadata": {
  "kernelspec": {
   "display_name": "Python 3 (ipykernel)",
   "language": "python",
   "name": "python3"
  },
  "language_info": {
   "codemirror_mode": {
    "name": "ipython",
    "version": 3
   },
   "file_extension": ".py",
   "mimetype": "text/x-python",
   "name": "python",
   "nbconvert_exporter": "python",
   "pygments_lexer": "ipython3",
   "version": "3.9.18"
  },
  "widgets": {
   "application/vnd.jupyter.widget-state+json": {
    "state": {},
    "version_major": 2,
    "version_minor": 0
   }
  }
 },
 "nbformat": 4,
 "nbformat_minor": 5
}
